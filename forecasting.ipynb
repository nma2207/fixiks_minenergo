{
 "cells": [
  {
   "cell_type": "code",
   "execution_count": 1,
   "metadata": {
    "collapsed": true
   },
   "outputs": [],
   "source": [
    "import pandas as pd\n",
    "import sktime\n",
    "import numpy as np\n",
    "import matplotlib\n",
    "import datetime\n",
    "import utils"
   ]
  },
  {
   "cell_type": "code",
   "execution_count": 2,
   "outputs": [],
   "source": [
    "weather_center = pd.read_excel(\"Погода_центры_2020.xls\")\n",
    "accident_weather = pd.read_excel(\"Аварии_погода_САЦ_2020.xls\")"
   ],
   "metadata": {
    "collapsed": false,
    "pycharm": {
     "name": "#%%\n"
    }
   }
  },
  {
   "cell_type": "code",
   "execution_count": 3,
   "outputs": [],
   "source": [
    "weather_center.columns\n",
    "weather_cols = ['lon', 'lat', 'temperature', 'winddirection',\n",
    "       'windspeedms', 'precipitation', 'snowstorm', 'mist', 'hail',\n",
    "       'glaze_ice', 'blast', 'squall', 'storm_rainfall', 'electric_storm']"
   ],
   "metadata": {
    "collapsed": false,
    "pycharm": {
     "name": "#%%\n"
    }
   }
  },
  {
   "cell_type": "code",
   "execution_count": 4,
   "outputs": [],
   "source": [
    "weather_temp = weather_center.copy()\n",
    "for col in weather_cols:\n",
    "    weather_temp = weather_temp[weather_temp[col] != -9999]"
   ],
   "metadata": {
    "collapsed": false,
    "pycharm": {
     "name": "#%%\n"
    }
   }
  },
  {
   "cell_type": "code",
   "execution_count": 5,
   "outputs": [],
   "source": [
    "accident_weather = accident_weather.drop([0], axis=0)\n",
    "#accident_weather['Субъект РФ'].apply(lambda x: utils.SUBJECTS_TO_CITIES.get(x, \"RU-\"))"
   ],
   "metadata": {
    "collapsed": false,
    "pycharm": {
     "name": "#%%\n"
    }
   }
  },
  {
   "cell_type": "code",
   "execution_count": 6,
   "outputs": [],
   "source": [
    "def change_sub_to_city(subject):\n",
    "    if subject in utils.SUBJECTS_TO_CITIES.keys():\n",
    "        return utils.SUBJECTS_TO_CITIES[subject]\n",
    "\n",
    "    subjects = subject.split(',')\n",
    "    for sub in subjects:\n",
    "        sub = sub.strip()\n",
    "        if sub in utils.SUBJECTS_TO_CITIES.keys():\n",
    "            return utils.SUBJECTS_TO_CITIES[sub]\n",
    "    others = {\n",
    "        'Город Москва':'MOSKVA',\n",
    "        'Кемеровская область - Кузбасс':'KEMEROVO',\n",
    "         \"Республика Крым\": \"SIMFEROPOL'\",\n",
    "        \"Республика Татарстан\": \"KAZAN'\",\n",
    "        'Ханты-Мансийский АО - Югра': 'HANTY-MANSIJSK'\n",
    "    }\n",
    "    return others.get(subject, \"None\")\n"
   ],
   "metadata": {
    "collapsed": false,
    "pycharm": {
     "name": "#%%\n"
    }
   }
  },
  {
   "cell_type": "code",
   "execution_count": 11,
   "outputs": [],
   "source": [
    "accident_weather['city'] = accident_weather['Субъект РФ'].apply(change_sub_to_city)"
   ],
   "metadata": {
    "collapsed": false,
    "pycharm": {
     "name": "#%%\n"
    }
   }
  },
  {
   "cell_type": "code",
   "execution_count": 8,
   "outputs": [],
   "source": [
    "accident_weather = accident_weather[accident_weather['city'] != \"None\"]"
   ],
   "metadata": {
    "collapsed": false,
    "pycharm": {
     "name": "#%%\n"
    }
   }
  },
  {
   "cell_type": "code",
   "execution_count": 14,
   "outputs": [],
   "source": [
    "accident_weather['date'] = accident_weather['Дата'].apply(lambda x:x.date())"
   ],
   "metadata": {
    "collapsed": false,
    "pycharm": {
     "name": "#%%\n"
    }
   }
  },
  {
   "cell_type": "code",
   "execution_count": 29,
   "outputs": [],
   "source": [
    "def get_event(row):\n",
    "\n",
    "    time = datetime.datetime.strptime(row[0], \"%Y-%m-%d %H:%M:%S.%f\")\n",
    "    city = row[1]\n",
    "    day = time.date()\n",
    "    city_cond = (accident_weather['city'] == city)\n",
    "    date_cond = (accident_weather['date'] == day)\n",
    "    d = accident_weather[city_cond & city_cond]\n",
    "    if len(d) == 0:\n",
    "        return 'Норма'\n",
    "    else:\n",
    "        return d['Причина'].iloc[0]\n"
   ],
   "metadata": {
    "collapsed": false,
    "pycharm": {
     "name": "#%%\n"
    }
   }
  },
  {
   "cell_type": "code",
   "execution_count": 33,
   "outputs": [],
   "source": [
    "weather_temp['event'] = weather_temp[['datetime_d', 'name']].apply(get_event, axis=1)"
   ],
   "metadata": {
    "collapsed": false,
    "pycharm": {
     "name": "#%%\n"
    }
   }
  },
  {
   "cell_type": "code",
   "execution_count": 34,
   "outputs": [
    {
     "data": {
      "text/plain": "0"
     },
     "execution_count": 34,
     "metadata": {},
     "output_type": "execute_result"
    }
   ],
   "source": [
    "sum(weather_temp['event'] == 2)"
   ],
   "metadata": {
    "collapsed": false,
    "pycharm": {
     "name": "#%%\n"
    }
   }
  },
  {
   "cell_type": "code",
   "execution_count": 35,
   "outputs": [
    {
     "data": {
      "text/plain": "0        Норма\n2        Норма\n4        Норма\n6        Норма\n8        Норма\n         ...  \n62124    Норма\n62159    Норма\n62195    Норма\n62210    Норма\n62218    Норма\nName: event, Length: 1438, dtype: object"
     },
     "execution_count": 35,
     "metadata": {},
     "output_type": "execute_result"
    }
   ],
   "source": [
    "weather_temp['event']"
   ],
   "metadata": {
    "collapsed": false,
    "pycharm": {
     "name": "#%%\n"
    }
   }
  },
  {
   "cell_type": "code",
   "execution_count": 38,
   "outputs": [],
   "source": [
    "classes = set(weather_temp['event'])"
   ],
   "metadata": {
    "collapsed": false,
    "pycharm": {
     "name": "#%%\n"
    }
   }
  },
  {
   "cell_type": "code",
   "execution_count": 39,
   "outputs": [],
   "source": [
    "X_columns = ['lon', 'lat', 'temperature', 'winddirection',\n",
    "       'windspeedms', 'precipitation', 'snowstorm', 'mist', 'hail',\n",
    "       'glaze_ice', 'blast', 'squall', 'storm_rainfall', 'electric_storm']\n",
    "Y_columns = ['event']"
   ],
   "metadata": {
    "collapsed": false,
    "pycharm": {
     "name": "#%%\n"
    }
   }
  },
  {
   "cell_type": "code",
   "execution_count": 40,
   "outputs": [],
   "source": [
    "X = weather_temp[X_columns]\n",
    "Y = weather_temp[Y_columns]\n",
    "\n",
    "# PREDICTION"
   ],
   "metadata": {
    "collapsed": false,
    "pycharm": {
     "name": "#%%\n"
    }
   }
  },
  {
   "cell_type": "code",
   "execution_count": 42,
   "outputs": [],
   "source": [
    "from sktime.classification.interval_based import TimeSeriesForestClassifier"
   ],
   "metadata": {
    "collapsed": false,
    "pycharm": {
     "name": "#%%\n"
    }
   }
  },
  {
   "cell_type": "code",
   "execution_count": 62,
   "outputs": [],
   "source": [
    "classifier = TimeSeriesForestClassifier()\n",
    "X_t = X.values.tolist()\n",
    "#classifier.fit(X_t, Y['event'])"
   ],
   "metadata": {
    "collapsed": false,
    "pycharm": {
     "name": "#%%\n"
    }
   }
  },
  {
   "cell_type": "code",
   "execution_count": 65,
   "outputs": [],
   "source": [
    "X_t = list(map(lambda x: pd.DataFrame(x), X_t))"
   ],
   "metadata": {
    "collapsed": false,
    "pycharm": {
     "name": "#%%\n"
    }
   }
  },
  {
   "cell_type": "code",
   "execution_count": 75,
   "outputs": [],
   "source": [
    "X_t = pd.DataFrame(X.apply(lambda x: np.array(x), axis = 1))"
   ],
   "metadata": {
    "collapsed": false,
    "pycharm": {
     "name": "#%%\n"
    }
   }
  },
  {
   "cell_type": "code",
   "execution_count": 76,
   "outputs": [
    {
     "data": {
      "text/plain": "TimeSeriesForestClassifier()"
     },
     "execution_count": 76,
     "metadata": {},
     "output_type": "execute_result"
    }
   ],
   "source": [
    "classifier.fit(X_t, Y['event'])"
   ],
   "metadata": {
    "collapsed": false,
    "pycharm": {
     "name": "#%%\n"
    }
   }
  },
  {
   "cell_type": "code",
   "execution_count": 79,
   "outputs": [
    {
     "data": {
      "text/plain": "{'Гололёдообразование', 'Норма', 'Падение деревьев (природные)', 'Пожары'}"
     },
     "execution_count": 79,
     "metadata": {},
     "output_type": "execute_result"
    }
   ],
   "source": [
    "y_p = classifier.predict(X_t)"
   ],
   "metadata": {
    "collapsed": false,
    "pycharm": {
     "name": "#%%\n"
    }
   }
  },
  {
   "cell_type": "code",
   "execution_count": 81,
   "outputs": [
    {
     "data": {
      "text/plain": "1.0"
     },
     "execution_count": 81,
     "metadata": {},
     "output_type": "execute_result"
    }
   ],
   "source": [
    "from sklearn.metrics import accuracy_score\n",
    "accuracy_score(Y['event'], y_p)"
   ],
   "metadata": {
    "collapsed": false,
    "pycharm": {
     "name": "#%%\n"
    }
   }
  },
  {
   "cell_type": "code",
   "execution_count": 82,
   "outputs": [
    {
     "data": {
      "text/plain": "                                                       0\n0      [177.567, 64.783, 14.0, 180.0, 6.0, 0.0, 0.0, ...\n2      [177.567, 64.783, 11.0, 40.0, 2.0, 4.0, 0.0, 0...\n4      [177.567, 64.783, 9.0, 210.0, 3.0, 0.0, 0.0, 0...\n6      [177.567, 64.783, 7.0, 140.0, 9.0, 0.0, 0.0, 0...\n8      [177.567, 64.783, 5.0, 130.0, 8.0, 2.0, 0.0, 0...\n...                                                  ...\n62124  [33.533, 44.617, 29.0, 0.0, 4.0, 0.0, 0.0, 0.0...\n62159  [33.533, 44.617, 19.0, 240.0, 4.0, 0.0, 0.0, 0...\n62195  [33.533, 44.617, 1.0, 60.0, 3.0, 3.0, 0.0, 0.0...\n62210  [33.533, 44.617, 23.0, 70.0, 1.0, 0.0, 0.0, 0....\n62218  [33.533, 44.617, 8.0, 0.0, 3.0, 0.0, 0.0, 0.0,...\n\n[1438 rows x 1 columns]",
      "text/html": "<div>\n<style scoped>\n    .dataframe tbody tr th:only-of-type {\n        vertical-align: middle;\n    }\n\n    .dataframe tbody tr th {\n        vertical-align: top;\n    }\n\n    .dataframe thead th {\n        text-align: right;\n    }\n</style>\n<table border=\"1\" class=\"dataframe\">\n  <thead>\n    <tr style=\"text-align: right;\">\n      <th></th>\n      <th>0</th>\n    </tr>\n  </thead>\n  <tbody>\n    <tr>\n      <th>0</th>\n      <td>[177.567, 64.783, 14.0, 180.0, 6.0, 0.0, 0.0, ...</td>\n    </tr>\n    <tr>\n      <th>2</th>\n      <td>[177.567, 64.783, 11.0, 40.0, 2.0, 4.0, 0.0, 0...</td>\n    </tr>\n    <tr>\n      <th>4</th>\n      <td>[177.567, 64.783, 9.0, 210.0, 3.0, 0.0, 0.0, 0...</td>\n    </tr>\n    <tr>\n      <th>6</th>\n      <td>[177.567, 64.783, 7.0, 140.0, 9.0, 0.0, 0.0, 0...</td>\n    </tr>\n    <tr>\n      <th>8</th>\n      <td>[177.567, 64.783, 5.0, 130.0, 8.0, 2.0, 0.0, 0...</td>\n    </tr>\n    <tr>\n      <th>...</th>\n      <td>...</td>\n    </tr>\n    <tr>\n      <th>62124</th>\n      <td>[33.533, 44.617, 29.0, 0.0, 4.0, 0.0, 0.0, 0.0...</td>\n    </tr>\n    <tr>\n      <th>62159</th>\n      <td>[33.533, 44.617, 19.0, 240.0, 4.0, 0.0, 0.0, 0...</td>\n    </tr>\n    <tr>\n      <th>62195</th>\n      <td>[33.533, 44.617, 1.0, 60.0, 3.0, 3.0, 0.0, 0.0...</td>\n    </tr>\n    <tr>\n      <th>62210</th>\n      <td>[33.533, 44.617, 23.0, 70.0, 1.0, 0.0, 0.0, 0....</td>\n    </tr>\n    <tr>\n      <th>62218</th>\n      <td>[33.533, 44.617, 8.0, 0.0, 3.0, 0.0, 0.0, 0.0,...</td>\n    </tr>\n  </tbody>\n</table>\n<p>1438 rows × 1 columns</p>\n</div>"
     },
     "execution_count": 82,
     "metadata": {},
     "output_type": "execute_result"
    }
   ],
   "source": [
    "X_t"
   ],
   "metadata": {
    "collapsed": false,
    "pycharm": {
     "name": "#%%\n"
    }
   }
  },
  {
   "cell_type": "code",
   "execution_count": 83,
   "outputs": [
    {
     "data": {
      "text/plain": "['classifier.joblib']"
     },
     "execution_count": 83,
     "metadata": {},
     "output_type": "execute_result"
    }
   ],
   "source": [
    "import joblib\n",
    "joblib.dump(classifier, \"classifier.joblib\")"
   ],
   "metadata": {
    "collapsed": false,
    "pycharm": {
     "name": "#%%\n"
    }
   }
  },
  {
   "cell_type": "code",
   "execution_count": 95,
   "outputs": [
    {
     "data": {
      "text/plain": "9"
     },
     "execution_count": 95,
     "metadata": {},
     "output_type": "execute_result"
    }
   ],
   "source": [
    "std = np.mean([\n",
    "    tree.feature_importances_ for tree in classifier.estimators_], axis=0)\n",
    "classifier.estimators_[0].max_features_"
   ],
   "metadata": {
    "collapsed": false,
    "pycharm": {
     "name": "#%%\n"
    }
   }
  }
 ],
 "metadata": {
  "kernelspec": {
   "display_name": "Python 3",
   "language": "python",
   "name": "python3"
  },
  "language_info": {
   "codemirror_mode": {
    "name": "ipython",
    "version": 2
   },
   "file_extension": ".py",
   "mimetype": "text/x-python",
   "name": "python",
   "nbconvert_exporter": "python",
   "pygments_lexer": "ipython2",
   "version": "2.7.6"
  }
 },
 "nbformat": 4,
 "nbformat_minor": 0
}